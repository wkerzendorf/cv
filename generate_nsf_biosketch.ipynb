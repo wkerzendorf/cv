{
 "cells": [
  {
   "cell_type": "code",
   "execution_count": 86,
   "metadata": {},
   "outputs": [],
   "source": [
    "import json\n",
    "from jinja2 import Environment, PackageLoader, select_autoescape, FileSystemLoader\n",
    "import datetime"
   ]
  },
  {
   "cell_type": "code",
   "execution_count": 88,
   "metadata": {},
   "outputs": [
    {
     "data": {
      "text/plain": [
       "2018"
      ]
     },
     "execution_count": 88,
     "metadata": {},
     "output_type": "execute_result"
    }
   ],
   "source": []
  },
  {
   "cell_type": "code",
   "execution_count": 73,
   "metadata": {},
   "outputs": [],
   "source": [
    "env = Environment(\n",
    "    loader=FileSystemLoader('templates'),\n",
    "    block_start_string = '\\BLOCK{',\n",
    "    block_end_string = '}',\n",
    "    variable_start_string = '\\VAR{',\n",
    "    variable_end_string = '}',\n",
    "    comment_start_string = '\\#{',\n",
    "    comment_end_string = '}',\n",
    "    line_statement_prefix = '%%',\n",
    "    line_comment_prefix = '%#',\n",
    "    trim_blocks = True,\n",
    "    autoescape=select_autoescape(['latex'])\n",
    ")\n"
   ]
  },
  {
   "cell_type": "markdown",
   "metadata": {},
   "source": [
    "# Read ORCID data #"
   ]
  },
  {
   "cell_type": "code",
   "execution_count": 50,
   "metadata": {},
   "outputs": [],
   "source": [
    "wkerzendorf_orcid = json.load(open('wkerzendorf_orcid.json'))"
   ]
  },
  {
   "cell_type": "code",
   "execution_count": 93,
   "metadata": {},
   "outputs": [],
   "source": [
    "prof_preparations = []\n",
    "for item in wkerzendorf_orcid['activities-summary']['educations']['education-summary'][::-1]:\n",
    "    cur_entry = {}\n",
    "    cur_entry['institute'] = item['organization']['name']\n",
    "    org_address = item['organization']['address']\n",
    "    if org_address['city'] == 'Heidelberg':\n",
    "        cur_entry['major'] = 'physics'\n",
    "    else:\n",
    "        cur_entry['major'] = 'astrophysics'\n",
    "    cur_entry['location'] = \"{city}, {country}\".format(city=org_address['city'], country=org_address['country'])\n",
    "    cur_entry['degyear'] = \"{degree}, {year}\".format(degree=item['role-title'], year=item['end-date']['year']['value'])\n",
    "    prof_preparations.append(cur_entry)\n",
    "    \n",
    "\n"
   ]
  },
  {
   "cell_type": "code",
   "execution_count": 94,
   "metadata": {},
   "outputs": [],
   "source": [
    "for item in wkerzendorf_orcid['activities-summary']['employments']['employment-summary'][::-1]:\n",
    "    cur_entry = {}\n",
    "    cur_entry['institute'] = item['organization']['name']\n",
    "    org_address = item['organization']['address']\n",
    "    cur_entry['major'] = 'astrophysics'\n",
    "    cur_entry['location'] = \"{city}, {country}\".format(city=org_address['city'], country=org_address['country'])\n",
    "    start_year = item['start-date']['year']['value']\n",
    "    if item['end-date'] is None:\n",
    "        end_year = 'present'\n",
    "    else:\n",
    "        end_year = item['end-date']['year']['value']\n",
    "    cur_entry['degyear'] = \"{degree}, {start_year} -- {end_year}\".format(degree=item['role-title'], \n",
    "                                                           start_year=start_year,\n",
    "                                                           end_year=end_year)\n",
    "    prof_preparations.append(cur_entry)\n",
    "    "
   ]
  },
  {
   "cell_type": "markdown",
   "metadata": {},
   "source": [
    "# Products #"
   ]
  },
  {
   "cell_type": "code",
   "execution_count": null,
   "metadata": {},
   "outputs": [],
   "source": [
    "list(ads.SearchQuery(q='author:\"^rau, g\" database:astronomy property:refereed'))"
   ]
  },
  {
   "cell_type": "code",
   "execution_count": 127,
   "metadata": {},
   "outputs": [],
   "source": [
    "nsf_template = env.get_template('nsf_biosketch_template.tex')"
   ]
  },
  {
   "cell_type": "code",
   "execution_count": 128,
   "metadata": {},
   "outputs": [],
   "source": [
    "with open('formats/nsf_biosketch/nsf_biosketch.tex', 'w') as fh:\n",
    "    fh.write(nsf_template.render(prof_preparation=prof_preparations))"
   ]
  },
  {
   "cell_type": "code",
   "execution_count": 126,
   "metadata": {},
   "outputs": [],
   "source": [
    "!code formats/nsf_biosketch/nsf_biosketch.tex"
   ]
  },
  {
   "cell_type": "code",
   "execution_count": 57,
   "metadata": {},
   "outputs": [
    {
     "data": {
      "text/plain": [
       "[{'institute': 'Ruprecht Karls Universität Heidelberg',\n",
       "  'major': 'astrophysics',\n",
       "  'location': 'Heidelberg, DE',\n",
       "  'degyear': 'Vordiplom, 2006'},\n",
       " {'institute': 'ANU Research School of Astronomy and Astrophysics',\n",
       "  'major': 'astrophysics',\n",
       "  'location': 'Weston Creek, AU',\n",
       "  'degyear': 'PhD, 2011'}]"
      ]
     },
     "execution_count": 57,
     "metadata": {},
     "output_type": "execute_result"
    }
   ],
   "source": [
    "prof_preparations"
   ]
  },
  {
   "cell_type": "code",
   "execution_count": null,
   "metadata": {},
   "outputs": [],
   "source": []
  }
 ],
 "metadata": {
  "kernelspec": {
   "display_name": "Python 3",
   "language": "python",
   "name": "python3"
  },
  "language_info": {
   "codemirror_mode": {
    "name": "ipython",
    "version": 3
   },
   "file_extension": ".py",
   "mimetype": "text/x-python",
   "name": "python",
   "nbconvert_exporter": "python",
   "pygments_lexer": "ipython3",
   "version": "3.7.1"
  }
 },
 "nbformat": 4,
 "nbformat_minor": 2
}
