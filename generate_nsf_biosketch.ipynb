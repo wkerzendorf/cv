{
 "cells": [
  {
   "cell_type": "code",
   "execution_count": 277,
   "metadata": {},
   "outputs": [],
   "source": [
    "import json\n",
    "from jinja2 import Environment, PackageLoader, select_autoescape, FileSystemLoader\n",
    "import datetime\n",
    "import xml.etree.ElementTree as ET\n",
    "import ads\n",
    "import pandas as pd\n",
    "import bibtexparser"
   ]
  },
  {
   "cell_type": "code",
   "execution_count": 224,
   "metadata": {},
   "outputs": [],
   "source": [
    "env = Environment(\n",
    "    loader=FileSystemLoader('templates'),\n",
    "    block_start_string = '\\BLOCK{',\n",
    "    block_end_string = '}',\n",
    "    variable_start_string = '\\VAR{',\n",
    "    variable_end_string = '}',\n",
    "    comment_start_string = '\\#{',\n",
    "    comment_end_string = '}',\n",
    "    line_statement_prefix = '%%',\n",
    "    line_comment_prefix = '%#',\n",
    "    trim_blocks = True,\n",
    "    autoescape=select_autoescape(['latex'])\n",
    ")\n",
    "template_dict = {}"
   ]
  },
  {
   "cell_type": "markdown",
   "metadata": {},
   "source": [
    "# Read ORCID data #"
   ]
  },
  {
   "cell_type": "code",
   "execution_count": 50,
   "metadata": {},
   "outputs": [],
   "source": [
    "wkerzendorf_orcid = json.load(open('wkerzendorf_orcid.json'))"
   ]
  },
  {
   "cell_type": "code",
   "execution_count": 93,
   "metadata": {},
   "outputs": [],
   "source": [
    "prof_preparations = []\n",
    "for item in wkerzendorf_orcid['activities-summary']['educations']['education-summary'][::-1]:\n",
    "    cur_entry = {}\n",
    "    cur_entry['institute'] = item['organization']['name']\n",
    "    org_address = item['organization']['address']\n",
    "    if org_address['city'] == 'Heidelberg':\n",
    "        cur_entry['major'] = 'physics'\n",
    "    else:\n",
    "        cur_entry['major'] = 'astrophysics'\n",
    "    cur_entry['location'] = \"{city}, {country}\".format(city=org_address['city'], country=org_address['country'])\n",
    "    cur_entry['degyear'] = \"{degree}, {year}\".format(degree=item['role-title'], year=item['end-date']['year']['value'])\n",
    "    prof_preparations.append(cur_entry)\n",
    "    \n",
    "\n"
   ]
  },
  {
   "cell_type": "code",
   "execution_count": 94,
   "metadata": {},
   "outputs": [],
   "source": [
    "for item in wkerzendorf_orcid['activities-summary']['employments']['employment-summary'][::-1]:\n",
    "    cur_entry = {}\n",
    "    cur_entry['institute'] = item['organization']['name']\n",
    "    org_address = item['organization']['address']\n",
    "    cur_entry['major'] = 'astrophysics'\n",
    "    cur_entry['location'] = \"{city}, {country}\".format(city=org_address['city'], country=org_address['country'])\n",
    "    start_year = item['start-date']['year']['value']\n",
    "    if item['end-date'] is None:\n",
    "        end_year = 'present'\n",
    "    else:\n",
    "        end_year = item['end-date']['year']['value']\n",
    "    cur_entry['degyear'] = \"{degree}, {start_year} -- {end_year}\".format(degree=item['role-title'], \n",
    "                                                           start_year=start_year,\n",
    "                                                           end_year=end_year)\n",
    "    prof_preparations.append(cur_entry)\n"
   ]
  },
  {
   "cell_type": "code",
   "execution_count": 225,
   "metadata": {},
   "outputs": [],
   "source": [
    "template_dict['prof_preparations'] = prof_preparations"
   ]
  },
  {
   "cell_type": "markdown",
   "metadata": {},
   "source": [
    "# Products #"
   ]
  },
  {
   "cell_type": "code",
   "execution_count": 278,
   "metadata": {},
   "outputs": [],
   "source": [
    "bparser = bibtexparser.bparser.BibTexParser(interpolate_strings=False)"
   ]
  },
  {
   "cell_type": "code",
   "execution_count": 285,
   "metadata": {},
   "outputs": [],
   "source": [
    "bibtex_db = bibtexparser.load(open('wekerzendorf_all_added.bib'), bparser)"
   ]
  },
  {
   "cell_type": "code",
   "execution_count": 286,
   "metadata": {},
   "outputs": [],
   "source": [
    "related_products_bcodes = ['2018MNRAS.477.3425B',\n",
    " '2017arXiv171100055K',\n",
    " '2017Natur.551...75S',\n",
    " '2014MNRAS.440..387K',\n",
    " '2017A&A...599A..46B']\n",
    "general_products_bcodes = ['2009ApJ...701.1665K',\n",
    " '2014ApJ...796L..26K',\n",
    " '2013A&A...558A..33A',\n",
    " '2012ApJ...759....7K',\n",
    " '2017MNRAS.472.2534K']"
   ]
  },
  {
   "cell_type": "code",
   "execution_count": 312,
   "metadata": {},
   "outputs": [],
   "source": [
    "def shorten_authors(author_str):\n",
    "    author_list = author_str.replace('\\n', ' ').split(' and ')\n",
    "    if len(author_list) < 8:\n",
    "        return author_str\n",
    "    \n",
    "        "
   ]
  },
  {
   "cell_type": "code",
   "execution_count": null,
   "metadata": {},
   "outputs": [],
   "source": [
    "x.entries_dict = bibtex_db"
   ]
  },
  {
   "cell_type": "code",
   "execution_count": 302,
   "metadata": {},
   "outputs": [],
   "source": [
    "all_products_dict = {}\n",
    "for bcode in related_products_bcodes + general_products_bcodes:\n",
    "    all_products_dict[bcode] = bibtex_db.entries_dict[bcode]"
   ]
  },
  {
   "cell_type": "code",
   "execution_count": 314,
   "metadata": {},
   "outputs": [],
   "source": [
    "!open -a bibdesk wekerzendorf_all_added.bib"
   ]
  },
  {
   "cell_type": "code",
   "execution_count": 304,
   "metadata": {},
   "outputs": [],
   "source": [
    "all_products_db = bibtexparser.bibdatabase.BibDatabase()\n",
    "all_products_db.entries = all_products_dict.values()"
   ]
  },
  {
   "cell_type": "code",
   "execution_count": null,
   "metadata": {},
   "outputs": [],
   "source": []
  },
  {
   "cell_type": "code",
   "execution_count": 324,
   "metadata": {},
   "outputs": [],
   "source": [
    "with open('formats/nsf_biosketch/wekerzendorf_2018.bib', 'w') as bibtex_file:\n",
    "    bibtexparser.dump(all_products_db, bibtex_file)"
   ]
  },
  {
   "cell_type": "code",
   "execution_count": 326,
   "metadata": {},
   "outputs": [],
   "source": [
    "!open -a bibdesk formats/nsf_biosketch/wekerzendorf_2018.bib"
   ]
  },
  {
   "cell_type": "code",
   "execution_count": 276,
   "metadata": {},
   "outputs": [],
   "source": []
  },
  {
   "cell_type": "markdown",
   "metadata": {},
   "source": [
    "# Synergistics #"
   ]
  },
  {
   "cell_type": "code",
   "execution_count": 205,
   "metadata": {},
   "outputs": [],
   "source": [
    "ads_key = json.load(open('keys.json'))['ads_key']\n",
    "ads.config.token = ads_key"
   ]
  },
  {
   "cell_type": "code",
   "execution_count": 232,
   "metadata": {},
   "outputs": [],
   "source": [
    "astropy_stats = {}"
   ]
  },
  {
   "cell_type": "code",
   "execution_count": 207,
   "metadata": {},
   "outputs": [
    {
     "name": "stdout",
     "output_type": "stream",
     "text": [
      "{'limit': '5000', 'remaining': '4999', 'reset': '1541646791'}\n"
     ]
    }
   ],
   "source": [
    "cur_year = datetime.datetime.now().year\n",
    "astropy_ads_query_str = 'topn({topn}, year:{start_year}-{end_year} database:astronomy property:refereed, citation_count desc)'\n",
    "astropy_query = ads.SearchQuery(q=astropy_ads_query_str.format(topn=20, start_year=cur_year-5, end_year=cur_year+1), rows=1000)\n",
    "papers = {}\n",
    "for paper in astropy_query:\n",
    "    papers[paper.bibcode] = paper\n",
    "print(astropy_query.response.get_ratelimits())"
   ]
  },
  {
   "cell_type": "code",
   "execution_count": 213,
   "metadata": {},
   "outputs": [
    {
     "name": "stderr",
     "output_type": "stream",
     "text": [
      "/Users/wkerzend/miniconda/envs/cv/lib/python3.7/site-packages/ads/utils.py:31: UserWarning: You are lazy loading attributes via 'citation_count', and so are making multiple calls to the API. This will impact your overall rate limits.\n",
      "  UserWarning,\n"
     ]
    }
   ],
   "source": [
    "df_paper = pd.DataFrame(index=papers.keys(), columns=['citations'])\n",
    "for i, paper in enumerate(papers.values()):\n",
    "    df_paper.loc[paper.bibcode, 'citations'] = paper.citation_count\n",
    "    "
   ]
  },
  {
   "cell_type": "code",
   "execution_count": 233,
   "metadata": {},
   "outputs": [],
   "source": [
    "astropy_stats['citation_rank_last5'] = int(20 - df_paper.citations.rank()['2013A&A...558A..33A']) + 1"
   ]
  },
  {
   "cell_type": "code",
   "execution_count": 230,
   "metadata": {},
   "outputs": [],
   "source": [
    "astropy_oh = ET.parse('astropy.xml').getroot()"
   ]
  },
  {
   "cell_type": "code",
   "execution_count": 245,
   "metadata": {},
   "outputs": [],
   "source": [
    "astropy_stats['contributors'] = astropy_oh.find('./result/project/analysis/total_contributor_count').text\n",
    "astropy_stats['code_lines'] = astropy_oh.find('./result/project/analysis/total_code_lines').text"
   ]
  },
  {
   "cell_type": "code",
   "execution_count": 246,
   "metadata": {},
   "outputs": [],
   "source": [
    "template_dict['astropy_stats'] = astropy_stats"
   ]
  },
  {
   "cell_type": "code",
   "execution_count": 247,
   "metadata": {},
   "outputs": [],
   "source": [
    "tardis_stats = {}"
   ]
  },
  {
   "cell_type": "code",
   "execution_count": 248,
   "metadata": {},
   "outputs": [],
   "source": [
    "tardis_oh = ET.parse('tardis.xml')\n",
    "tardis_root = tardis_oh.getroot()"
   ]
  },
  {
   "cell_type": "code",
   "execution_count": 249,
   "metadata": {},
   "outputs": [],
   "source": [
    "tardis_stats['contributors'] = tardis_root.find('./result/project/analysis/total_contributor_count').text\n",
    "tardis_stats['code_lines'] = tardis_root.find('./result/project/analysis/total_code_lines').text"
   ]
  },
  {
   "cell_type": "code",
   "execution_count": 250,
   "metadata": {},
   "outputs": [],
   "source": [
    "template_dict['tardis_stats'] = tardis_stats"
   ]
  },
  {
   "cell_type": "markdown",
   "metadata": {},
   "source": [
    "# Writing the template #"
   ]
  },
  {
   "cell_type": "code",
   "execution_count": 327,
   "metadata": {},
   "outputs": [],
   "source": [
    "nsf_template = env.get_template('nsf_biosketch_template.tex')"
   ]
  },
  {
   "cell_type": "code",
   "execution_count": 328,
   "metadata": {},
   "outputs": [],
   "source": [
    "with open('formats/nsf_biosketch/nsf_biosketch.tex', 'w') as fh:\n",
    "    fh.write(nsf_template.render(**template_dict))"
   ]
  },
  {
   "cell_type": "code",
   "execution_count": 329,
   "metadata": {},
   "outputs": [],
   "source": [
    "!code formats/nsf_biosketch/nsf_biosketch.tex"
   ]
  },
  {
   "cell_type": "code",
   "execution_count": null,
   "metadata": {},
   "outputs": [],
   "source": []
  }
 ],
 "metadata": {
  "kernelspec": {
   "display_name": "Python 3",
   "language": "python",
   "name": "python3"
  },
  "language_info": {
   "codemirror_mode": {
    "name": "ipython",
    "version": 3
   },
   "file_extension": ".py",
   "mimetype": "text/x-python",
   "name": "python",
   "nbconvert_exporter": "python",
   "pygments_lexer": "ipython3",
   "version": "3.6.8"
  }
 },
 "nbformat": 4,
 "nbformat_minor": 2
}
