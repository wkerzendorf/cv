{
 "cells": [
  {
   "cell_type": "code",
   "execution_count": 175,
   "metadata": {},
   "outputs": [],
   "source": [
    "import json\n",
    "import ads\n",
    "import orcid\n",
    "import bibtexparser\n",
    "import tqdm\n",
    "import lxml\n",
    "import requests"
   ]
  },
  {
   "cell_type": "markdown",
   "metadata": {},
   "source": [
    "## Generate Data from ORCID ##"
   ]
  },
  {
   "cell_type": "code",
   "execution_count": 25,
   "metadata": {},
   "outputs": [],
   "source": [
    "\n",
    "orcid_access = json.load(open('keys.json'))\n",
    "orcid_key = orcid_access['orcid_client_id']\n",
    "orcid_secret = orcid_access['orcid_client_secret']\n",
    "api = orcid.PublicAPI(orcid_key, orcid_secret)\n",
    "token = api.get_search_token_from_orcid()"
   ]
  },
  {
   "cell_type": "code",
   "execution_count": 26,
   "metadata": {},
   "outputs": [],
   "source": [
    "wkerzendorf_orcid = api.read_record_public('0000-0002-0479-7235', 'record', token)"
   ]
  },
  {
   "cell_type": "code",
   "execution_count": 32,
   "metadata": {},
   "outputs": [],
   "source": [
    "json.dump(wkerzendorf_orcid, open('wkerzendorf_orcid.json', 'w'))"
   ]
  },
  {
   "cell_type": "markdown",
   "metadata": {},
   "source": [
    "## Generating Publication statistics ##"
   ]
  },
  {
   "cell_type": "code",
   "execution_count": 123,
   "metadata": {},
   "outputs": [],
   "source": [
    "ads_key = json.load(open('keys.json'))['ads_key']\n",
    "ads.config.token = ads_key"
   ]
  },
  {
   "cell_type": "code",
   "execution_count": 160,
   "metadata": {},
   "outputs": [],
   "source": [
    "ads.SearchQuery?"
   ]
  },
  {
   "cell_type": "code",
   "execution_count": 161,
   "metadata": {},
   "outputs": [
    {
     "name": "stdout",
     "output_type": "stream",
     "text": [
      "{'limit': '5000', 'remaining': '4854', 'reset': '1541546847'}\n"
     ]
    }
   ],
   "source": [
    "kerzendorf_query = ads.SearchQuery(q='author:\"kerzendorf\" database:astronomy', rows=1000)\n",
    "papers = {}\n",
    "for paper in kerzendorf_query:\n",
    "    papers[paper.bibcode] = paper\n",
    "print(kerzendorf_query.response.get_ratelimits())"
   ]
  },
  {
   "cell_type": "code",
   "execution_count": 163,
   "metadata": {},
   "outputs": [],
   "source": [
    "whole_bibtex = ads.ExportQuery(list(papers.keys()), format='bibtex').execute()\n",
    "with open('wekerzendorf_all.bib', 'w') as fh:\n",
    "    fh.write(whole_bibtex)"
   ]
  },
  {
   "cell_type": "code",
   "execution_count": 164,
   "metadata": {},
   "outputs": [],
   "source": [
    "bparser = bibtexparser.bparser.BibTexParser(interpolate_strings=False)"
   ]
  },
  {
   "cell_type": "code",
   "execution_count": 165,
   "metadata": {},
   "outputs": [],
   "source": [
    "bibtex_db = bibtexparser.load(open('wekerzendorf_all.bib'), bparser)"
   ]
  },
  {
   "cell_type": "code",
   "execution_count": 166,
   "metadata": {},
   "outputs": [
    {
     "name": "stderr",
     "output_type": "stream",
     "text": [
      "/Users/wkerzend/miniconda/envs/cv/lib/python3.7/site-packages/ads/utils.py:31: UserWarning: You are lazy loading attributes via 'property', and so are making multiple calls to the API. This will impact your overall rate limits.\n",
      "  UserWarning,\n",
      "/Users/wkerzend/miniconda/envs/cv/lib/python3.7/site-packages/ads/utils.py:31: UserWarning: You are lazy loading attributes via 'citation_count', and so are making multiple calls to the API. This will impact your overall rate limits.\n",
      "  UserWarning,\n"
     ]
    }
   ],
   "source": [
    "for entry in bibtex_db.entries:\n",
    "    cur_paper = papers[entry['ID']]\n",
    "    refereed = True if 'REFEREED' in cur_paper.property else False\n",
    "    entry['refereed'] = str(refereed)\n",
    "    entry['citations'] = str(cur_paper.citation_count)"
   ]
  },
  {
   "cell_type": "code",
   "execution_count": 167,
   "metadata": {},
   "outputs": [],
   "source": [
    "bibtexparser.dump(bibtex_db, open('wekerzendorf_all_added.bib', 'w'))"
   ]
  },
  {
   "cell_type": "code",
   "execution_count": 168,
   "metadata": {},
   "outputs": [],
   "source": [
    "!open -a bibdesk wekerzendorf_all_added.bib"
   ]
  },
  {
   "cell_type": "markdown",
   "metadata": {},
   "source": [
    "# OpenHub #"
   ]
  },
  {
   "cell_type": "code",
   "execution_count": 186,
   "metadata": {},
   "outputs": [],
   "source": [
    "openhub_key = json.load(open('keys.json'))['openhub_api']"
   ]
  },
  {
   "cell_type": "code",
   "execution_count": 187,
   "metadata": {},
   "outputs": [],
   "source": [
    "tardis_xml = requests.get('https://www.openhub.net/p/tardis-sn.xml', params={'api_key':openhub_key})\n",
    "with open('tardis_openhub.xml', 'wb') as fh:\n",
    "    fh.write(tardis_xml.content)"
   ]
  },
  {
   "cell_type": "code",
   "execution_count": 188,
   "metadata": {},
   "outputs": [],
   "source": [
    "astropy_xml = requests.get('https://www.openhub.net/p/astropy.xml', params={'api_key':openhub_key})\n",
    "with open('astropy_openhub.xml', 'wb') as fh:\n",
    "    fh.write(astropy_xml.content)"
   ]
  },
  {
   "cell_type": "code",
   "execution_count": null,
   "metadata": {},
   "outputs": [],
   "source": []
  }
 ],
 "metadata": {
  "kernelspec": {
   "display_name": "Python 3",
   "language": "python",
   "name": "python3"
  },
  "language_info": {
   "codemirror_mode": {
    "name": "ipython",
    "version": 3
   },
   "file_extension": ".py",
   "mimetype": "text/x-python",
   "name": "python",
   "nbconvert_exporter": "python",
   "pygments_lexer": "ipython3",
   "version": "3.7.1"
  }
 },
 "nbformat": 4,
 "nbformat_minor": 2
}
