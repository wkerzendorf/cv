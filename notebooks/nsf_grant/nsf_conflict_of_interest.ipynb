{
 "cells": [
  {
   "cell_type": "code",
   "execution_count": 1,
   "metadata": {},
   "outputs": [],
   "source": [
    "import json\n",
    "import ads\n",
    "import orcid\n",
    "import bibtexparser\n",
    "import tqdm\n",
    "import lxml\n",
    "import requests\n",
    "import datetime\n",
    "import pandas as pd\n",
    "import numpy as np"
   ]
  },
  {
   "cell_type": "code",
   "execution_count": 326,
   "metadata": {},
   "outputs": [],
   "source": [
    "def merge_orcids(paper_record):\n",
    "    orcid_df = pd.DataFrame(columns=['orcid_user', 'orcid_other', 'orcid_pub'])\n",
    "    for col in orcid_df.columns:\n",
    "        if getattr(paper_record, col) is None:\n",
    "            continue\n",
    "        if len(paper_record.author)!= len(getattr(paper_record, col)): continue\n",
    "        orcid_df[col] = getattr(paper_record, col)\n",
    "    orcid_df = orcid_df.replace('-', np.nan)\n",
    "\n",
    "    return orcid_df.orcid_other.combine_first(orcid_df.orcid_pub).combine_first(orcid_df.orcid_user)\n",
    "\n",
    "def generate_author_df(paper_record):\n",
    "    author_df = pd.DataFrame(columns=['author_name', 'orcid'])\n",
    "    assert len(paper_record.author) == len(merge_orcids(paper_record).values)\n",
    "    author_df['author_name'] = paper_record.author\n",
    "#    author_df['affiliation'] = paper_record.aff\n",
    "    author_df['orcid'] = merge_orcids(paper_record).values\n",
    "    return author_df\n",
    "\n",
    "def generate_coa_table_from_orcid(orcids, orcid_api):\n",
    "    coa_df = pd.DataFrame(columns=['first_name', 'last_name', 'organization'])\n",
    "    for orcid in orcids:\n",
    "        orcid_record = orcid_api.read_record_public(orcid, 'record', token)\n",
    "\n",
    "        orcid_activities = orcid_record['activities-summary']\n",
    "        orcid_name = orcid_record['person']['name']\n",
    "        family_name = orcid_name['family-name']['value']\n",
    "        first_name = orcid_name['given-names']['value']\n",
    "        try:\n",
    "            org = orcid_activities['employments']['employment-summary'][0]['organization']['name']\n",
    "        except IndexError:\n",
    "            \n",
    "            try:\n",
    "                org = orcid_activities['educations']['education-summary'][0]['organization']['name']\n",
    "            except IndexError:\n",
    "                org = None\n",
    "        \n",
    "        organization = org\n",
    "        coa_df = coa_df.append({'first_name':first_name, 'last_name':family_name, 'organization':organization}, ignore_index=True)\n",
    "    return coa_df\n"
   ]
  },
  {
   "cell_type": "markdown",
   "metadata": {},
   "source": [
    "## Generating Publication statistics ##"
   ]
  },
  {
   "cell_type": "code",
   "execution_count": 2,
   "metadata": {},
   "outputs": [],
   "source": [
    "ads_key = json.load(open('keys.json'))['ads_key']\n",
    "ads.config.token = ads_key"
   ]
  },
  {
   "cell_type": "code",
   "execution_count": 62,
   "metadata": {},
   "outputs": [],
   "source": [
    "orcid_access = json.load(open('keys.json'))\n",
    "orcid_key = orcid_access['orcid_client_id']\n",
    "orcid_secret = orcid_access['orcid_client_secret']\n",
    "api = orcid.PublicAPI(orcid_key, orcid_secret)\n",
    "token = api.get_search_token_from_orcid()"
   ]
  },
  {
   "cell_type": "code",
   "execution_count": 167,
   "metadata": {},
   "outputs": [],
   "source": [
    "cur_time = datetime.datetime.now()\n",
    "past_time = cur_time - datetime.timedelta(days=48*31)\n",
    "co_author_query = ('author:\"kerzendorf\" database:astronomy property:article '\n",
    "                   'pubdate:[{past_time.year}-{past_time.month} TO {cur_time.year}-{cur_time.month}]').format(past_time=past_time, cur_time=cur_time)"
   ]
  },
  {
   "cell_type": "code",
   "execution_count": 168,
   "metadata": {},
   "outputs": [
    {
     "name": "stdout",
     "output_type": "stream",
     "text": [
      "{'limit': '5000', 'remaining': '4810', 'reset': '1541779168'}\n",
      "Found 30 papers matching the search\n"
     ]
    }
   ],
   "source": [
    "kerzendorf_query = ads.SearchQuery(q=co_author_query, rows=1000)\n",
    "papers = {}\n",
    "for paper in kerzendorf_query:\n",
    "    papers[paper.bibcode] = paper\n",
    "print(kerzendorf_query.response.get_ratelimits())\n",
    "print(\"Found {0} papers matching the search\".format(len(papers)))"
   ]
  },
  {
   "cell_type": "code",
   "execution_count": 240,
   "metadata": {},
   "outputs": [],
   "source": [
    "conflict_df = pd.DataFrame(columns=['author_name', 'orcid'])\n",
    "for paper in papers.values():\n",
    "    if len(paper.author)>1000:\n",
    "        continue\n",
    "    author_df = generate_author_df(paper)\n",
    "    if 'kerzendorf' in paper.first_author.lower():\n",
    "        conflict_df = conflict_df.append(author_df.iloc[1:], ignore_index=True, sort=False)\n",
    "    elif 'collaboration' in paper.first_author.lower():\n",
    "        pass\n",
    "    else:\n",
    "        conflict_df = conflict_df.append(author_df.iloc[0], ignore_index=True, sort=False)"
   ]
  },
  {
   "cell_type": "code",
   "execution_count": 241,
   "metadata": {},
   "outputs": [],
   "source": [
    "conflict_df['author_last'] = conflict_df.author_name.str.split(', ').str[0]\n",
    "conflict_df = conflict_df.sort_values(['author_last', 'orcid'])"
   ]
  },
  {
   "cell_type": "code",
   "execution_count": 242,
   "metadata": {},
   "outputs": [],
   "source": [
    "conflict_df = conflict_df.drop_duplicates()"
   ]
  },
  {
   "cell_type": "code",
   "execution_count": 243,
   "metadata": {},
   "outputs": [],
   "source": [
    "conflict_df = conflict_df.drop_duplicates('author_last', keep='first')"
   ]
  },
  {
   "cell_type": "code",
   "execution_count": 245,
   "metadata": {},
   "outputs": [],
   "source": [
    "saved_orcids = pd.read_csv('conflict_orcids.csv', index_col=0)['orcid']"
   ]
  },
  {
   "cell_type": "code",
   "execution_count": 247,
   "metadata": {},
   "outputs": [],
   "source": [
    "conflict_df.loc[saved_orcids.index, 'orcid'] = saved_orcids"
   ]
  },
  {
   "cell_type": "code",
   "execution_count": 327,
   "metadata": {},
   "outputs": [],
   "source": [
    "final_coa = generate_coa_table_from_orcid(conflict_df.orcid.dropna().values, api)\n"
   ]
  },
  {
   "cell_type": "code",
   "execution_count": 337,
   "metadata": {},
   "outputs": [
    {
     "name": "stderr",
     "output_type": "stream",
     "text": [
      "/Users/wkerzend/miniconda/envs/cv/lib/python3.7/site-packages/ipykernel_launcher.py:2: SettingWithCopyWarning: \n",
      "A value is trying to be set on a copy of a slice from a DataFrame.\n",
      "Try using .loc[row_indexer,col_indexer] = value instead\n",
      "\n",
      "See the caveats in the documentation: http://pandas.pydata.org/pandas-docs/stable/indexing.html#indexing-view-versus-copy\n",
      "  \n",
      "/Users/wkerzend/miniconda/envs/cv/lib/python3.7/site-packages/ipykernel_launcher.py:3: SettingWithCopyWarning: \n",
      "A value is trying to be set on a copy of a slice from a DataFrame.\n",
      "Try using .loc[row_indexer,col_indexer] = value instead\n",
      "\n",
      "See the caveats in the documentation: http://pandas.pydata.org/pandas-docs/stable/indexing.html#indexing-view-versus-copy\n",
      "  This is separate from the ipykernel package so we can avoid doing imports until\n"
     ]
    }
   ],
   "source": [
    "no_orcid = conflict_df[conflict_df.orcid.isnull()]\n",
    "no_orcid['last_name'] = no_orcid.author_name.str.split(', ').str[0]\n",
    "no_orcid['first_name'] = no_orcid.author_name.str.split(', ').str[1]"
   ]
  },
  {
   "cell_type": "code",
   "execution_count": 339,
   "metadata": {},
   "outputs": [],
   "source": [
    "final_coa = final_coa.append(no_orcid[['first_name', 'last_name']], ignore_index=True)"
   ]
  },
  {
   "cell_type": "code",
   "execution_count": 342,
   "metadata": {},
   "outputs": [],
   "source": [
    "final_coa.to_excel('final_coa.xls')"
   ]
  },
  {
   "cell_type": "code",
   "execution_count": 346,
   "metadata": {},
   "outputs": [],
   "source": [
    "final_coa['concat_name'] = (final_coa.last_name+', '+final_coa.first_name).values"
   ]
  },
  {
   "cell_type": "code",
   "execution_count": null,
   "metadata": {},
   "outputs": [],
   "source": []
  }
 ],
 "metadata": {
  "kernelspec": {
   "display_name": "Python 3",
   "language": "python",
   "name": "python3"
  },
  "language_info": {
   "codemirror_mode": {
    "name": "ipython",
    "version": 3
   },
   "file_extension": ".py",
   "mimetype": "text/x-python",
   "name": "python",
   "nbconvert_exporter": "python",
   "pygments_lexer": "ipython3",
   "version": "3.6.8"
  }
 },
 "nbformat": 4,
 "nbformat_minor": 2
}
